{
 "cells": [
  {
   "cell_type": "code",
   "execution_count": 1,
   "id": "43f655cf-8fd0-474e-9a35-c2c564977e2a",
   "metadata": {},
   "outputs": [],
   "source": [
    "import pandas as pd"
   ]
  },
  {
   "cell_type": "code",
   "execution_count": 3,
   "id": "5a887cb5-de7b-46f3-900f-9e40ccde75dc",
   "metadata": {},
   "outputs": [],
   "source": [
    "df = pd.read_csv(\"estudiantes.csv\")"
   ]
  },
  {
   "cell_type": "code",
   "execution_count": 7,
   "id": "b7229424-453c-42d3-9cac-76988dacb270",
   "metadata": {},
   "outputs": [
    {
     "name": "stdout",
     "output_type": "stream",
     "text": [
      "  NOMBRE;EDAD;GENERO;CARRERA;SEMESTRE\n",
      "0       Victor;28;M;Auditoria;Primero\n",
      "1     Josefa;23;F;Informatica;Primero\n",
      "2            Raul;26;M;Derecho;Quinto\n",
      "3    Mariana;27;F;Informatica;Septimo\n",
      "4        Rodrigo;22;M;Derecho;Tercero\n",
      "5   Gustavo;25;M;Arquitectura;Septimo\n",
      "6       Lucy;23;F;Informatica;Primero\n",
      "7          Sofia;24;F;Economia;Noveno\n"
     ]
    }
   ],
   "source": [
    "print(df)"
   ]
  },
  {
   "cell_type": "code",
   "execution_count": 9,
   "id": "2a8d8199-1dca-411d-8c87-4efbd5cebcc6",
   "metadata": {},
   "outputs": [],
   "source": [
    "convertir = pd.read_excel(\"estudiantes.xlsx\")"
   ]
  },
  {
   "cell_type": "code",
   "execution_count": 17,
   "id": "ecf513c9-6d2f-494a-bb70-4d63c7f2c95f",
   "metadata": {},
   "outputs": [],
   "source": [
    "convertir.to_csv(\n",
    "                \"estudiantes01.csv\", #renombramos el fichero a csv\n",
    "                index=None,   #Medimos el tamaño, sin parámetro se extrae el todo \n",
    "                header=True\n",
    "                )"
   ]
  },
  {
   "cell_type": "code",
   "execution_count": 19,
   "id": "ce3d2b10-024f-47de-ba92-fe140d0f4a92",
   "metadata": {},
   "outputs": [
    {
     "data": {
      "text/html": [
       "<div>\n",
       "<style scoped>\n",
       "    .dataframe tbody tr th:only-of-type {\n",
       "        vertical-align: middle;\n",
       "    }\n",
       "\n",
       "    .dataframe tbody tr th {\n",
       "        vertical-align: top;\n",
       "    }\n",
       "\n",
       "    .dataframe thead th {\n",
       "        text-align: right;\n",
       "    }\n",
       "</style>\n",
       "<table border=\"1\" class=\"dataframe\">\n",
       "  <thead>\n",
       "    <tr style=\"text-align: right;\">\n",
       "      <th></th>\n",
       "      <th>NOMBRE</th>\n",
       "      <th>EDAD</th>\n",
       "      <th>GENERO</th>\n",
       "      <th>CARRERA</th>\n",
       "      <th>SEMESTRE</th>\n",
       "    </tr>\n",
       "  </thead>\n",
       "  <tbody>\n",
       "    <tr>\n",
       "      <th>0</th>\n",
       "      <td>Victor</td>\n",
       "      <td>28</td>\n",
       "      <td>M</td>\n",
       "      <td>Auditoria</td>\n",
       "      <td>Primero</td>\n",
       "    </tr>\n",
       "    <tr>\n",
       "      <th>1</th>\n",
       "      <td>Josefa</td>\n",
       "      <td>23</td>\n",
       "      <td>F</td>\n",
       "      <td>Informatica</td>\n",
       "      <td>Primero</td>\n",
       "    </tr>\n",
       "    <tr>\n",
       "      <th>2</th>\n",
       "      <td>Raul</td>\n",
       "      <td>26</td>\n",
       "      <td>M</td>\n",
       "      <td>Derecho</td>\n",
       "      <td>Quinto</td>\n",
       "    </tr>\n",
       "    <tr>\n",
       "      <th>3</th>\n",
       "      <td>Mariana</td>\n",
       "      <td>27</td>\n",
       "      <td>F</td>\n",
       "      <td>Informatica</td>\n",
       "      <td>Septimo</td>\n",
       "    </tr>\n",
       "    <tr>\n",
       "      <th>4</th>\n",
       "      <td>Rodrigo</td>\n",
       "      <td>22</td>\n",
       "      <td>M</td>\n",
       "      <td>Derecho</td>\n",
       "      <td>Tercero</td>\n",
       "    </tr>\n",
       "    <tr>\n",
       "      <th>5</th>\n",
       "      <td>Gustavo</td>\n",
       "      <td>25</td>\n",
       "      <td>M</td>\n",
       "      <td>Arquitectura</td>\n",
       "      <td>Septimo</td>\n",
       "    </tr>\n",
       "    <tr>\n",
       "      <th>6</th>\n",
       "      <td>Lucy</td>\n",
       "      <td>23</td>\n",
       "      <td>F</td>\n",
       "      <td>Informatica</td>\n",
       "      <td>Primero</td>\n",
       "    </tr>\n",
       "    <tr>\n",
       "      <th>7</th>\n",
       "      <td>Sofia</td>\n",
       "      <td>24</td>\n",
       "      <td>F</td>\n",
       "      <td>Economia</td>\n",
       "      <td>Noveno</td>\n",
       "    </tr>\n",
       "  </tbody>\n",
       "</table>\n",
       "</div>"
      ],
      "text/plain": [
       "    NOMBRE  EDAD GENERO       CARRERA SEMESTRE\n",
       "0   Victor    28      M     Auditoria  Primero\n",
       "1   Josefa    23      F   Informatica  Primero\n",
       "2     Raul    26      M       Derecho   Quinto\n",
       "3  Mariana    27      F   Informatica  Septimo\n",
       "4  Rodrigo    22      M       Derecho  Tercero\n",
       "5  Gustavo    25      M  Arquitectura  Septimo\n",
       "6     Lucy    23      F   Informatica  Primero\n",
       "7    Sofia    24      F      Economia   Noveno"
      ]
     },
     "execution_count": 19,
     "metadata": {},
     "output_type": "execute_result"
    }
   ],
   "source": [
    "convertir = pd.read_csv(\"estudiantes01.csv\")\n",
    "convertir"
   ]
  }
 ],
 "metadata": {
  "kernelspec": {
   "display_name": "Python 3 (ipykernel)",
   "language": "python",
   "name": "python3"
  },
  "language_info": {
   "codemirror_mode": {
    "name": "ipython",
    "version": 3
   },
   "file_extension": ".py",
   "mimetype": "text/x-python",
   "name": "python",
   "nbconvert_exporter": "python",
   "pygments_lexer": "ipython3",
   "version": "3.12.4"
  }
 },
 "nbformat": 4,
 "nbformat_minor": 5
}
