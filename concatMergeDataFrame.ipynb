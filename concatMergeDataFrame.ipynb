{
 "cells": [
  {
   "cell_type": "code",
   "execution_count": 43,
   "id": "7cf37bb8-f331-4191-894b-e3f9f2a6afb4",
   "metadata": {},
   "outputs": [],
   "source": [
    "import pandas as pd\n",
    "\n",
    "\n",
    "#para unir dataframes por filas tienen que tener el mismo índice de columnas"
   ]
  },
  {
   "cell_type": "code",
   "execution_count": 55,
   "id": "e80bed85-c2e1-4504-854c-98f439b8744f",
   "metadata": {},
   "outputs": [],
   "source": [
    "DF1 = pd.DataFrame(\n",
    "                    {\n",
    "                    \"NOMBRE\":[\"Jose\", \"Max\"],\n",
    "                    \"CARRERA\":[\"Economia\", \"Arquitectura\"],\n",
    "                    \"EDAD\":[23, 26]\n",
    "                    }\n",
    "                    ).set_index(\"NOMBRE\")"
   ]
  },
  {
   "cell_type": "code",
   "execution_count": 57,
   "id": "50bd82d8-9e59-4f79-9016-87c70d1ead68",
   "metadata": {},
   "outputs": [],
   "source": [
    "DF2 = pd.DataFrame(\n",
    "                    {\"NOMBRE\":[\"Aurora\", \"Maria\"],\n",
    "                    \"CARRERA\":[\"Medicina\", \"Informatica\"],\n",
    "                    \"EDAD\":[22, 28]},\n",
    "                    ).set_index(\"NOMBRE\")"
   ]
  },
  {
   "cell_type": "code",
   "execution_count": 59,
   "id": "2d6f6f5e-fa90-4c69-9a91-d226a88b831f",
   "metadata": {},
   "outputs": [],
   "source": [
    "#se genera un nuevo dataframe\n",
    "# se tiene un punto de combinación, en este caso el nombre\n",
    "DF  = pd.concat([DF1, DF2])"
   ]
  },
  {
   "cell_type": "code",
   "execution_count": 61,
   "id": "20ea0b2b-2f51-4b42-957b-b438ee2c7557",
   "metadata": {},
   "outputs": [
    {
     "data": {
      "text/html": [
       "<div>\n",
       "<style scoped>\n",
       "    .dataframe tbody tr th:only-of-type {\n",
       "        vertical-align: middle;\n",
       "    }\n",
       "\n",
       "    .dataframe tbody tr th {\n",
       "        vertical-align: top;\n",
       "    }\n",
       "\n",
       "    .dataframe thead th {\n",
       "        text-align: right;\n",
       "    }\n",
       "</style>\n",
       "<table border=\"1\" class=\"dataframe\">\n",
       "  <thead>\n",
       "    <tr style=\"text-align: right;\">\n",
       "      <th></th>\n",
       "      <th>CARRERA</th>\n",
       "      <th>EDAD</th>\n",
       "    </tr>\n",
       "    <tr>\n",
       "      <th>NOMBRE</th>\n",
       "      <th></th>\n",
       "      <th></th>\n",
       "    </tr>\n",
       "  </thead>\n",
       "  <tbody>\n",
       "    <tr>\n",
       "      <th>Jose</th>\n",
       "      <td>Economia</td>\n",
       "      <td>23</td>\n",
       "    </tr>\n",
       "    <tr>\n",
       "      <th>Max</th>\n",
       "      <td>Arquitectura</td>\n",
       "      <td>26</td>\n",
       "    </tr>\n",
       "    <tr>\n",
       "      <th>Aurora</th>\n",
       "      <td>Medicina</td>\n",
       "      <td>22</td>\n",
       "    </tr>\n",
       "    <tr>\n",
       "      <th>Maria</th>\n",
       "      <td>Informatica</td>\n",
       "      <td>28</td>\n",
       "    </tr>\n",
       "  </tbody>\n",
       "</table>\n",
       "</div>"
      ],
      "text/plain": [
       "             CARRERA  EDAD\n",
       "NOMBRE                    \n",
       "Jose        Economia    23\n",
       "Max     Arquitectura    26\n",
       "Aurora      Medicina    22\n",
       "Maria    Informatica    28"
      ]
     },
     "execution_count": 61,
     "metadata": {},
     "output_type": "execute_result"
    }
   ],
   "source": [
    "DF"
   ]
  },
  {
   "cell_type": "code",
   "execution_count": 80,
   "id": "038aa320-006c-4f3a-9bfc-efff1c022a57",
   "metadata": {},
   "outputs": [],
   "source": [
    "# concatenacion por columnas\n",
    "# debe tener el mismo indice de filas\n",
    "# tienen que tener la misma cantidad de filas\n",
    "\n",
    "DF3 = pd.DataFrame(\n",
    "                        {\n",
    "                          \"AUTOS\":[\"Nissa\", \"Ford\", \"Audio\"],\n",
    "                          \"COLOR\":[\"blanco\", \"azul\", \"rojo\"]\n",
    "                        }\n",
    "                    ).set_index(\"AUTOS\")"
   ]
  },
  {
   "cell_type": "code",
   "execution_count": 82,
   "id": "49ed943d-f617-4af6-82d2-8e45167c5313",
   "metadata": {},
   "outputs": [],
   "source": [
    "DF4 = pd.DataFrame(\n",
    "                        {\n",
    "                          \"AUTOS\":[\"Nissa\", \"Ford\", \"Audio\"],\n",
    "                          \"MODELO\":[2018, 2020, 2022]\n",
    "                        }\n",
    "                    ).set_index(\"AUTOS\")"
   ]
  },
  {
   "cell_type": "code",
   "execution_count": 94,
   "id": "9924419b-710a-40ac-9859-69c1d24b1c9f",
   "metadata": {},
   "outputs": [],
   "source": [
    "# axis combinacion por filas 0 VERTICAL -> por defecto\n",
    "#     combinacion por columnas 1 HORIZONTAL\n",
    "\n",
    "DF5 = pd.concat([DF3,DF4], axis=1)"
   ]
  },
  {
   "cell_type": "code",
   "execution_count": 96,
   "id": "da832268-49c8-4be2-8392-6120c9ca0dde",
   "metadata": {},
   "outputs": [
    {
     "data": {
      "text/html": [
       "<div>\n",
       "<style scoped>\n",
       "    .dataframe tbody tr th:only-of-type {\n",
       "        vertical-align: middle;\n",
       "    }\n",
       "\n",
       "    .dataframe tbody tr th {\n",
       "        vertical-align: top;\n",
       "    }\n",
       "\n",
       "    .dataframe thead th {\n",
       "        text-align: right;\n",
       "    }\n",
       "</style>\n",
       "<table border=\"1\" class=\"dataframe\">\n",
       "  <thead>\n",
       "    <tr style=\"text-align: right;\">\n",
       "      <th></th>\n",
       "      <th>COLOR</th>\n",
       "      <th>MODELO</th>\n",
       "    </tr>\n",
       "    <tr>\n",
       "      <th>AUTOS</th>\n",
       "      <th></th>\n",
       "      <th></th>\n",
       "    </tr>\n",
       "  </thead>\n",
       "  <tbody>\n",
       "    <tr>\n",
       "      <th>Nissa</th>\n",
       "      <td>blanco</td>\n",
       "      <td>2018</td>\n",
       "    </tr>\n",
       "    <tr>\n",
       "      <th>Ford</th>\n",
       "      <td>azul</td>\n",
       "      <td>2020</td>\n",
       "    </tr>\n",
       "    <tr>\n",
       "      <th>Audio</th>\n",
       "      <td>rojo</td>\n",
       "      <td>2022</td>\n",
       "    </tr>\n",
       "  </tbody>\n",
       "</table>\n",
       "</div>"
      ],
      "text/plain": [
       "        COLOR  MODELO\n",
       "AUTOS                \n",
       "Nissa  blanco    2018\n",
       "Ford     azul    2020\n",
       "Audio    rojo    2022"
      ]
     },
     "execution_count": 96,
     "metadata": {},
     "output_type": "execute_result"
    }
   ],
   "source": [
    "DF5"
   ]
  },
  {
   "cell_type": "code",
   "execution_count": null,
   "id": "f66038f8-eddb-4210-9e83-0f8d382eec5c",
   "metadata": {},
   "outputs": [],
   "source": [
    "DF5 "
   ]
  },
  {
   "cell_type": "code",
   "execution_count": 110,
   "id": "5cda77ef-921e-4268-8a63-5d5bccaec6ff",
   "metadata": {},
   "outputs": [],
   "source": [
    "\n",
    "DF5 = pd.DataFrame(\n",
    "                        {\n",
    "                          \"AUTOS\":[\"Nissa\", \"Ford\", \"Audio\"],\n",
    "                          \"COLOR\":[\"blanco\", \"azul\", \"rojo\"]\n",
    "                        }\n",
    "                    )\n",
    "\n",
    "\n",
    "DF6 = pd.DataFrame(\n",
    "                        {\n",
    "                          \"AUTOS\":[\"Toyoya\", \"Ford\", \"Audio\"],\n",
    "                          \"MODELO\":[2018, 2020, 2022]\n",
    "                        }\n",
    "                    )"
   ]
  },
  {
   "cell_type": "code",
   "execution_count": 124,
   "id": "5cb53298-2e95-4be5-be9b-eb64a0ef2b01",
   "metadata": {},
   "outputs": [],
   "source": [
    "# mezclar dataframes\n",
    "# integrar filas de dos dataframes que tienen información en comun\n",
    "# mediante una clave\n",
    "\n",
    "mergeDF = pd.merge(DF5, DF6, on=\"AUTOS\", how=\"right\")\n",
    "\n",
    "\n"
   ]
  },
  {
   "cell_type": "code",
   "execution_count": 126,
   "id": "e658837d-7ee9-400d-8f8a-f1a213826d16",
   "metadata": {},
   "outputs": [
    {
     "data": {
      "text/html": [
       "<div>\n",
       "<style scoped>\n",
       "    .dataframe tbody tr th:only-of-type {\n",
       "        vertical-align: middle;\n",
       "    }\n",
       "\n",
       "    .dataframe tbody tr th {\n",
       "        vertical-align: top;\n",
       "    }\n",
       "\n",
       "    .dataframe thead th {\n",
       "        text-align: right;\n",
       "    }\n",
       "</style>\n",
       "<table border=\"1\" class=\"dataframe\">\n",
       "  <thead>\n",
       "    <tr style=\"text-align: right;\">\n",
       "      <th></th>\n",
       "      <th>AUTOS</th>\n",
       "      <th>COLOR</th>\n",
       "      <th>MODELO</th>\n",
       "    </tr>\n",
       "  </thead>\n",
       "  <tbody>\n",
       "    <tr>\n",
       "      <th>0</th>\n",
       "      <td>Toyoya</td>\n",
       "      <td>NaN</td>\n",
       "      <td>2018</td>\n",
       "    </tr>\n",
       "    <tr>\n",
       "      <th>1</th>\n",
       "      <td>Ford</td>\n",
       "      <td>azul</td>\n",
       "      <td>2020</td>\n",
       "    </tr>\n",
       "    <tr>\n",
       "      <th>2</th>\n",
       "      <td>Audio</td>\n",
       "      <td>rojo</td>\n",
       "      <td>2022</td>\n",
       "    </tr>\n",
       "  </tbody>\n",
       "</table>\n",
       "</div>"
      ],
      "text/plain": [
       "    AUTOS COLOR  MODELO\n",
       "0  Toyoya   NaN    2018\n",
       "1    Ford  azul    2020\n",
       "2   Audio  rojo    2022"
      ]
     },
     "execution_count": 126,
     "metadata": {},
     "output_type": "execute_result"
    }
   ],
   "source": [
    "mergeDF"
   ]
  }
 ],
 "metadata": {
  "kernelspec": {
   "display_name": "Python 3 (ipykernel)",
   "language": "python",
   "name": "python3"
  },
  "language_info": {
   "codemirror_mode": {
    "name": "ipython",
    "version": 3
   },
   "file_extension": ".py",
   "mimetype": "text/x-python",
   "name": "python",
   "nbconvert_exporter": "python",
   "pygments_lexer": "ipython3",
   "version": "3.12.4"
  }
 },
 "nbformat": 4,
 "nbformat_minor": 5
}
