{
 "cells": [
  {
   "cell_type": "code",
   "execution_count": 1,
   "id": "1701ad5b-2432-49cb-9bb7-50a64a66b1c5",
   "metadata": {},
   "outputs": [],
   "source": [
    "import pandas as pd\n",
    "\n"
   ]
  },
  {
   "cell_type": "code",
   "execution_count": 13,
   "id": "a2c68469-f9ce-4cfe-b99b-fa0226525135",
   "metadata": {},
   "outputs": [],
   "source": [
    "# creamos una estructura de datos\n",
    "\n",
    "# series recibe como parámetro un Array\n",
    "naranjas = pd.Series([4,9,2,6,10,200])"
   ]
  },
  {
   "cell_type": "code",
   "execution_count": 11,
   "id": "ce8d3cff-eb2d-4524-813e-4ad3b08d777a",
   "metadata": {},
   "outputs": [
    {
     "name": "stdout",
     "output_type": "stream",
     "text": [
      "0      4\n",
      "1      9\n",
      "2      2\n",
      "3      6\n",
      "4     10\n",
      "5    200\n",
      "dtype: int64\n"
     ]
    }
   ],
   "source": [
    "print(naranjas)"
   ]
  },
  {
   "cell_type": "code",
   "execution_count": 89,
   "id": "babba67e-b6d2-4859-a6b9-4abaf738afe3",
   "metadata": {},
   "outputs": [
    {
     "name": "stdout",
     "output_type": "stream",
     "text": [
      "0      rojo\n",
      "1      azul\n",
      "2     verde\n",
      "3    blanco\n",
      "4    morado\n",
      "5      rojo\n",
      "dtype: object\n"
     ]
    }
   ],
   "source": [
    "# usamos una lista para crear una serie\n",
    "colores = pd.Series([\"rojo\", \"azul\", \"verde\", \"blanco\", \"morado\", \"rojo\"] )\n",
    "\n",
    "\n",
    "\n",
    "print(colores)"
   ]
  },
  {
   "cell_type": "code",
   "execution_count": 113,
   "id": "fcf6f8a8-9b72-4a69-9417-fecffbfb19e7",
   "metadata": {},
   "outputs": [
    {
     "name": "stdout",
     "output_type": "stream",
     "text": [
      "Matemáticas     60\n",
      "Fisica         100\n",
      "Quimica         50\n",
      "dtype: int64\n"
     ]
    }
   ],
   "source": [
    "# usamos un diccionario para crear una serie\n",
    "\n",
    "\n",
    "\n",
    "materias = pd.Series ({\"Matemáticas\":60, \"Fisica\": 100, \"Quimica\": 50})\n",
    "\n",
    "print(materias)"
   ]
  },
  {
   "cell_type": "code",
   "execution_count": 79,
   "id": "9febc76a-1b12-4e16-ae7e-7855242f1f42",
   "metadata": {},
   "outputs": [
    {
     "name": "stdout",
     "output_type": "stream",
     "text": [
      "RangeIndex(start=0, stop=6, step=1)\n",
      "int64\n"
     ]
    }
   ],
   "source": [
    "# propiedades de una serie\n",
    "\n",
    "numeros = pd.Series([1,2,3,4,5,6])\n",
    "print(numeros.index)\n",
    "print(numeros.dtype)"
   ]
  },
  {
   "cell_type": "code",
   "execution_count": 119,
   "id": "3dd3ce8f-c051-42ea-afc4-dfab618c34c1",
   "metadata": {},
   "outputs": [
    {
     "data": {
      "text/plain": [
       "Fisica     100\n",
       "Quimica     50\n",
       "dtype: int64"
      ]
     },
     "execution_count": 119,
     "metadata": {},
     "output_type": "execute_result"
    }
   ],
   "source": [
    "# acceder a un valor de una serie\n",
    "\n",
    "colores[2:4]\n",
    "materias[[\"Fisica\", \"Quimica\"]]"
   ]
  },
  {
   "cell_type": "code",
   "execution_count": 161,
   "id": "7499e914-8057-4832-ba81-d02634b5c503",
   "metadata": {},
   "outputs": [
    {
     "data": {
      "text/plain": [
       "count     4.000000\n",
       "mean     10.000000\n",
       "std       5.163978\n",
       "min       4.000000\n",
       "25%       7.000000\n",
       "50%      10.000000\n",
       "75%      13.000000\n",
       "max      16.000000\n",
       "dtype: float64"
      ]
     },
     "execution_count": 161,
     "metadata": {},
     "output_type": "execute_result"
    }
   ],
   "source": [
    "# operaciones \n",
    "\n",
    "numeros * 2 #multiplica todos los elementos de la lista por dos\n",
    "numeros.sum() #suma los elementos de todas las listas\n",
    "numeros.max() # sacar valor máximo\n",
    "numeros.min() # sacar valor minimo\n",
    "numeros.std() #desviación estandar\n",
    "numeros.describe() # muestra las funciones básicas"
   ]
  },
  {
   "cell_type": "code",
   "execution_count": 165,
   "id": "47b03375-ba5a-4933-85c7-2235293ed5e2",
   "metadata": {},
   "outputs": [],
   "source": [
    "serie = pd.Series({\"Matematicas\": 8, \"Economia\": 6, \"Programacion\": 10, \"Fisica\": 5})"
   ]
  },
  {
   "cell_type": "code",
   "execution_count": 187,
   "id": "572ca3c8-da7a-482e-8919-713f5417725f",
   "metadata": {},
   "outputs": [
    {
     "data": {
      "text/plain": [
       "Economia         6\n",
       "Fisica           5\n",
       "Matematicas      8\n",
       "Programacion    10\n",
       "dtype: int64"
      ]
     },
     "execution_count": 187,
     "metadata": {},
     "output_type": "execute_result"
    }
   ],
   "source": [
    "# Filtrar el contenido de la serie\n",
    "serie[serie > 6]\n",
    "serie.sort_values()\n",
    "serie.sort_index(ascending=True) \n",
    "\n",
    "\n"
   ]
  },
  {
   "cell_type": "code",
   "execution_count": 189,
   "id": "82eceacc-7237-4a3e-90e8-73c4fa05a22e",
   "metadata": {},
   "outputs": [],
   "source": [
    "data = 5"
   ]
  },
  {
   "cell_type": "code",
   "execution_count": 195,
   "id": "fe28f483-fd86-40a1-b2d7-eab121f2c3ad",
   "metadata": {},
   "outputs": [],
   "source": [
    "# trabajar longitud\n",
    "serie = pd.Series(data, index=[0,1,2,3,4,5])"
   ]
  },
  {
   "cell_type": "code",
   "execution_count": 197,
   "id": "f5530ea0-3fca-4571-a3f7-cbc5e8f359ba",
   "metadata": {},
   "outputs": [
    {
     "name": "stdout",
     "output_type": "stream",
     "text": [
      "0    5\n",
      "1    5\n",
      "2    5\n",
      "3    5\n",
      "4    5\n",
      "5    5\n",
      "dtype: int64\n"
     ]
    }
   ],
   "source": [
    "print(serie)"
   ]
  },
  {
   "cell_type": "code",
   "execution_count": 211,
   "id": "09f357b6-439e-4c06-8fb5-e66ec8b28ea9",
   "metadata": {},
   "outputs": [
    {
     "name": "stdout",
     "output_type": "stream",
     "text": [
      "Antequera       Alejandro\n",
      "Los corrales       Fabian\n",
      "Antequera         Antonio\n",
      "dtype: object\n"
     ]
    }
   ],
   "source": [
    "# vamos a generar el indice de una lista\n",
    "\n",
    "\n",
    "data_lista = [\"Alejandro\", \"Fabian\", \"Antonio\"]\n",
    "\n",
    "\n",
    "indices = [\"Antequera\", \"Los corrales\", \"Antequera\"]\n",
    "\n",
    "\n",
    "personas = pd.Series(data=data_lista, index=indices)\n",
    "print(personas)\n"
   ]
  },
  {
   "cell_type": "code",
   "execution_count": 222,
   "id": "343496cb-16a3-49cf-8c68-9415a04dc2e8",
   "metadata": {},
   "outputs": [],
   "source": [
    "# crear dataframe a partir de un diccionario\n",
    "\n",
    "\n",
    "data = {\n",
    "        \"NOMBRE\": [\"Maria\", \"Juan\", \"Antonio\", \"Francisco\"], \n",
    "        \"CARRERA\": [\"Medicina\", \"Enfermeria\", \"Matematicas\", \"Informatica\"],\n",
    "        \"CORREO\" : [\"maria@correo.com\", \"juan@correo.com\", \"antonio@correo.com\", \"francisco@com\"]\n",
    "        }"
   ]
  },
  {
   "cell_type": "code",
   "execution_count": 228,
   "id": "1846487d-4e60-4a42-9002-6be3f9ab7218",
   "metadata": {},
   "outputs": [],
   "source": [
    "# montamos el dataframe\n",
    "\n",
    "dfEstudiantes = pd.DataFrame(data)\n"
   ]
  },
  {
   "cell_type": "code",
   "execution_count": 230,
   "id": "e8da100b-a0d6-4384-9046-7c69e3b0ad39",
   "metadata": {},
   "outputs": [],
   "source": [
    "# creacion de dataframe una sola lista\n",
    "\n",
    "\n",
    "df = pd.DataFrame(\n",
    "                  [\n",
    "                      [\"Maria\", 27],\n",
    "                      [\"David\", 33], \n",
    "                      [\"Jose\", 24], \n",
    "                      [\"Antonio\", 47]\n",
    "                  ],\n",
    "                    columns=[\"NOMBRE\", \"EDAD\"]\n",
    "                  )\n",
    "\n"
   ]
  },
  {
   "cell_type": "code",
   "execution_count": 305,
   "id": "4e1c1298-b2f6-4e55-8186-4c7f4c66af92",
   "metadata": {},
   "outputs": [
    {
     "name": "stdout",
     "output_type": "stream",
     "text": [
      "          a         b         c\n",
      "0 -0.623990  1.665987 -0.764459\n",
      "1 -1.823745 -1.380260  0.694046\n",
      "2  0.799319 -0.161787  0.394446\n",
      "3 -0.440971 -1.493188 -0.468441\n"
     ]
    }
   ],
   "source": [
    "# usando libreria numpy creamos un dataframe con valores aleatorios\n",
    "\n",
    "import numpy as np\n",
    "\n",
    "df = pd.DataFrame(\n",
    "                  np.random.randn(4,3),\n",
    "                  columns=[\"a\", \"b\", \"c\"]\n",
    "                 )\n",
    "\n",
    "print(df)"
   ]
  }
 ],
 "metadata": {
  "kernelspec": {
   "display_name": "Python 3 (ipykernel)",
   "language": "python",
   "name": "python3"
  },
  "language_info": {
   "codemirror_mode": {
    "name": "ipython",
    "version": 3
   },
   "file_extension": ".py",
   "mimetype": "text/x-python",
   "name": "python",
   "nbconvert_exporter": "python",
   "pygments_lexer": "ipython3",
   "version": "3.12.4"
  }
 },
 "nbformat": 4,
 "nbformat_minor": 5
}
